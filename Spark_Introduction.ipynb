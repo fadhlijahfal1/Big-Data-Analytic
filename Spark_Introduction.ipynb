{
  "nbformat": 4,
  "nbformat_minor": 0,
  "metadata": {
    "colab": {
      "provenance": [],
      "authorship_tag": "ABX9TyMVZbueXoake+9wBnlNQeeR",
      "include_colab_link": true
    },
    "kernelspec": {
      "name": "python3",
      "display_name": "Python 3"
    },
    "language_info": {
      "name": "python"
    }
  },
  "cells": [
    {
      "cell_type": "markdown",
      "metadata": {
        "id": "view-in-github",
        "colab_type": "text"
      },
      "source": [
        "<a href=\"https://colab.research.google.com/github/fadhlijahfal1/Big-Data-Analytic/blob/main/Spark_Introduction.ipynb\" target=\"_parent\"><img src=\"https://colab.research.google.com/assets/colab-badge.svg\" alt=\"Open In Colab\"/></a>"
      ]
    },
    {
      "cell_type": "markdown",
      "source": [
        "**Catatan:**\n",
        "\n",
        "Series = Array 1 dimensi\n",
        "\n",
        "Dataframe = 2 dimensi (matriks)"
      ],
      "metadata": {
        "id": "9LUwJuCWplhb"
      }
    },
    {
      "cell_type": "markdown",
      "source": [
        "Install Java dan Spark"
      ],
      "metadata": {
        "id": "tccHTtn4tjVk"
      }
    },
    {
      "cell_type": "code",
      "execution_count": 1,
      "metadata": {
        "id": "XurUN8b4lWmX"
      },
      "outputs": [],
      "source": [
        "!apt-get install openjdk-8-jdk-headless -qq > /dev/null\n",
        "!wget -q http://archive.apache.org/dist/spark/spark-3.5.1/spark-3.5.1-bin-hadoop3.tgz\n",
        "!tar xf spark-3.5.1-bin-hadoop3.tgz\n",
        "!pip install -q findspark"
      ]
    },
    {
      "cell_type": "markdown",
      "source": [
        "Set Environment Variabels"
      ],
      "metadata": {
        "id": "SOO7mYA4tcsj"
      }
    },
    {
      "cell_type": "code",
      "source": [
        "import os\n",
        "os.environ[\"JAVA_HOME\"] = \"/usr/lib/jvm/java-8-openjdk-amd64\"\n",
        "os.environ[\"SPARK_HOME\"] = \"/content/spark-3.5.1-bin-hadoop3\""
      ],
      "metadata": {
        "id": "jz58rAGStaY9"
      },
      "execution_count": 2,
      "outputs": []
    },
    {
      "cell_type": "code",
      "source": [
        "!ls"
      ],
      "metadata": {
        "colab": {
          "base_uri": "https://localhost:8080/"
        },
        "id": "oj0TY5WXto5E",
        "outputId": "be2db9e2-cc68-4f74-ba95-9625a012f9ab"
      },
      "execution_count": 3,
      "outputs": [
        {
          "output_type": "stream",
          "name": "stdout",
          "text": [
            "sample_data\t\t spark-3.5.1-bin-hadoop3.tgz  Tree_Environment.csv\n",
            "spark-3.5.1-bin-hadoop3  Tree.csv\n"
          ]
        }
      ]
    },
    {
      "cell_type": "code",
      "source": [
        "import findspark\n",
        "findspark.init()\n",
        "from pyspark.sql import SparkSession\n",
        "spark = SparkSession.builder.master(\"local[*]\").getOrCreate()\n",
        "spark.conf.set(\"spark.sql.repl.eagerEval.enabled\", True) # Property used to format output tables better\n",
        "spark"
      ],
      "metadata": {
        "colab": {
          "base_uri": "https://localhost:8080/",
          "height": 219
        },
        "id": "fOBn76_uttk8",
        "outputId": "74dcefd0-2371-40b4-afc7-bdda6e959a39"
      },
      "execution_count": 4,
      "outputs": [
        {
          "output_type": "execute_result",
          "data": {
            "text/plain": [
              "<pyspark.sql.session.SparkSession at 0x7b4a3aa87690>"
            ],
            "text/html": [
              "\n",
              "            <div>\n",
              "                <p><b>SparkSession - in-memory</b></p>\n",
              "                \n",
              "        <div>\n",
              "            <p><b>SparkContext</b></p>\n",
              "\n",
              "            <p><a href=\"http://089dcdc1649a:4040\">Spark UI</a></p>\n",
              "\n",
              "            <dl>\n",
              "              <dt>Version</dt>\n",
              "                <dd><code>v3.5.1</code></dd>\n",
              "              <dt>Master</dt>\n",
              "                <dd><code>local[*]</code></dd>\n",
              "              <dt>AppName</dt>\n",
              "                <dd><code>pyspark-shell</code></dd>\n",
              "            </dl>\n",
              "        </div>\n",
              "        \n",
              "            </div>\n",
              "        "
            ]
          },
          "metadata": {},
          "execution_count": 4
        }
      ]
    },
    {
      "cell_type": "markdown",
      "source": [
        "Contoh Penggunaan Pyspark Sederhana"
      ],
      "metadata": {
        "id": "oQCf8FfszvaN"
      }
    },
    {
      "cell_type": "code",
      "source": [
        "data = [(\"Budi\", 22), (\"Apik\", 81), (\"Aji\", 25)]\n",
        "\n",
        "df = spark.createDataFrame(data, [\"Nama\", \"Usia\"])\n",
        "\n",
        "df.show()"
      ],
      "metadata": {
        "id": "sq6THWvSzy3N",
        "colab": {
          "base_uri": "https://localhost:8080/"
        },
        "outputId": "8441bf5b-881d-4f30-b102-6c3bdacc116c"
      },
      "execution_count": 5,
      "outputs": [
        {
          "output_type": "stream",
          "name": "stdout",
          "text": [
            "+----+----+\n",
            "|Nama|Usia|\n",
            "+----+----+\n",
            "|Budi|  22|\n",
            "|Apik|  81|\n",
            "| Aji|  25|\n",
            "+----+----+\n",
            "\n"
          ]
        }
      ]
    },
    {
      "cell_type": "markdown",
      "source": [
        "Load Dataset"
      ],
      "metadata": {
        "id": "bscTNDOj2jKH"
      }
    },
    {
      "cell_type": "code",
      "source": [
        "trees_df = spark.read.csv(\"/content/Tree.csv\", header=True, inferSchema=True)\n",
        "\n",
        "trees_df.show()"
      ],
      "metadata": {
        "id": "M3dYMkrW2k5t",
        "colab": {
          "base_uri": "https://localhost:8080/"
        },
        "outputId": "64cc48c9-e0a3-41b7-ac59-b2c567d3a2ba"
      },
      "execution_count": 10,
      "outputs": [
        {
          "output_type": "stream",
          "name": "stdout",
          "text": [
            "+-------+-------------------+--------+---------+-----------+--------------+------------+---------+---------------+-------------+\n",
            "|Tree_ID|            Species|Height_m|Age_years|Diameter_cm|      Location|Planted_Date|Evergreen|Disease_Present|Health_Status|\n",
            "+-------+-------------------+--------+---------+-----------+--------------+------------+---------+---------------+-------------+\n",
            "|      1|      Quercus robur|    25.3|       45|      120.5|  North Forest|   3/15/1978|    false|           true|         Sick|\n",
            "|      2|   Pinus sylvestris|    32.1|       60|       95.8|Mountain Range|   7/22/1963|     true|          false|      Healthy|\n",
            "|      3|Acer pseudoplatanus|    18.7|       30|       68.2|     City Park|   11/5/1993|    false|           true|         Sick|\n",
            "|      4|    Fagus sylvatica|    28.9|       55|      112.3|   South Slope|   9/12/1968|    false|          false|      Healthy|\n",
            "|      5|        Picea abies|    41.5|       85|      145.0|   Alpine Zone|   5/30/1938|     true|           true|         Dead|\n",
            "|      6|     Betula pendula|    15.2|       20|       45.7|      Lakeside|   8/19/2003|    false|          false|      Healthy|\n",
            "|      7|        Pinus nigra|    29.8|       50|      103.4|  Coastal Area|   4/25/1973|     true|          false|      Healthy|\n",
            "|      8|    Quercus petraea|    27.4|       48|      118.9|    West Woods|  10/11/1975|    false|           true|         Sick|\n",
            "|      9|   Acer platanoides|    19.5|       35|       72.6|  Urban Center|   2/28/1988|    false|          false|      Healthy|\n",
            "|     10|         Abies alba|    NULL|       70|      128.3|Mountain Range|  12/10/1953|     true|           true|         Dead|\n",
            "|     11| Fraxinus excelsior|    22.8|       40|       89.7|     Riverbank|    7/7/1983|    false|           true|         Sick|\n",
            "|     12|    Pinus ponderosa|    31.9|       65|      110.2|  North Forest|   6/14/1958|     true|          false|      Healthy|\n",
            "|     13|   Betula pubescens|    14.3|       18|       42.1|    Swamp Area|   9/23/2005|    false|          false|         NULL|\n",
            "|     14|       Picea glauca|    38.2|       80|      139.6|   Alpine Zone|   4/17/1943|     true|          false|      Healthy|\n",
            "|     15|      Quercus rubra|    24.6|       43|      115.8|   East Valley|    8/9/1980|    false|           true|         Sick|\n",
            "|     15|      Quercus rubra|    24.6|       43|      115.8|   East Valley|    8/9/1980|    false|           true|         Sick|\n",
            "|     16|     Acer saccharum|    20.1|       38|       75.3|     City Park|   1/30/1985|    false|          false|      Healthy|\n",
            "|     17|      Pinus strobus|    27.5|       52|       97.4|  Coastal Area|   3/12/1971|     true|           true|         Dead|\n",
            "|     18|   Fagus orientalis|    26.8|       50|      109.7|   South Slope|  11/25/1973|    false|          false|      Healthy|\n",
            "|     19|      Abies procera|    34.9|       68|      123.8|Mountain Range|   10/5/1955|     true|          false|      Healthy|\n",
            "+-------+-------------------+--------+---------+-----------+--------------+------------+---------+---------------+-------------+\n",
            "only showing top 20 rows\n",
            "\n"
          ]
        }
      ]
    },
    {
      "cell_type": "code",
      "source": [
        "environment_df = spark.read.csv(\"/content/Tree_Environment.csv\", header = True, inferSchema = True)\n",
        "\n",
        "environment_df.show()"
      ],
      "metadata": {
        "id": "1k33gdNV32b3",
        "colab": {
          "base_uri": "https://localhost:8080/"
        },
        "outputId": "692bd134-df33-4755-e8a4-9abb969e6e4a"
      },
      "execution_count": 13,
      "outputs": [
        {
          "output_type": "stream",
          "name": "stdout",
          "text": [
            "+-------+---------+------------------+-----------------+--------------------------+-----------+\n",
            "|Tree_ID|Soil_Type|Annual_Rainfall_mm|Avg_Temperature_C|Carbon_Sequestration_kg_yr|     Family|\n",
            "+-------+---------+------------------+-----------------+--------------------------+-----------+\n",
            "|      1|     Loam|              1200|              8.5|                      25.3|   Fagaceae|\n",
            "|      2|    Sandy|               800|              6.2|                      38.7|   Pinaceae|\n",
            "|      3|     Clay|               950|             10.1|                      15.9|Sapindaceae|\n",
            "|      4|     Loam|              1100|              7.8|                      28.4|   Fagaceae|\n",
            "|      5|    Rocky|               650|              4.5|                      42.1|   Pinaceae|\n",
            "|      6|    Sandy|               900|              9.3|                      10.2| Betulaceae|\n",
            "|      7|     Clay|              1050|              8.9|                      32.8|   Pinaceae|\n",
            "|      8|     Loam|              1150|              8.2|                      26.7|   Fagaceae|\n",
            "|      9|     Clay|               980|             11.2|                      17.3|Sapindaceae|\n",
            "|     10|    Rocky|               700|              3.9|                      39.5|   Pinaceae|\n",
            "|     11|     Loam|              1000|              9.1|                      21.6|   Oleaceae|\n",
            "|     12|    Sandy|               850|              7.1|                      35.4|   Pinaceae|\n",
            "|     13|     Peat|              1300|              6.7|                       8.9| Betulaceae|\n",
            "|     14|    Rocky|               600|              5.2|                      41.7|   Pinaceae|\n",
            "|     15|     Loam|              1180|              8.4|                      24.8|   Fagaceae|\n",
            "|     16|     Clay|               920|             10.5|                      18.6|Sapindaceae|\n",
            "|     17|    Sandy|               880|              7.8|                      30.2|   Pinaceae|\n",
            "|     18|     Loam|              1120|              8.0|                      27.1|   Fagaceae|\n",
            "|     19|    Rocky|               680|              4.8|                      37.9|   Pinaceae|\n",
            "|     20|     Peat|              1250|              6.3|                      12.4| Betulaceae|\n",
            "+-------+---------+------------------+-----------------+--------------------------+-----------+\n",
            "\n"
          ]
        }
      ]
    },
    {
      "cell_type": "markdown",
      "source": [
        "Basic DataFrame Operations"
      ],
      "metadata": {
        "id": "G5_BXdUO4lLu"
      }
    },
    {
      "cell_type": "code",
      "source": [
        "# Menampilkan 5 Baris Data\n",
        "trees_df.show(5)"
      ],
      "metadata": {
        "id": "j-H07mng4pEv",
        "colab": {
          "base_uri": "https://localhost:8080/"
        },
        "outputId": "d7e3ab91-57db-4775-c6e3-568826c54bff"
      },
      "execution_count": 14,
      "outputs": [
        {
          "output_type": "stream",
          "name": "stdout",
          "text": [
            "+-------+-------------------+--------+---------+-----------+--------------+------------+---------+---------------+-------------+\n",
            "|Tree_ID|            Species|Height_m|Age_years|Diameter_cm|      Location|Planted_Date|Evergreen|Disease_Present|Health_Status|\n",
            "+-------+-------------------+--------+---------+-----------+--------------+------------+---------+---------------+-------------+\n",
            "|      1|      Quercus robur|    25.3|       45|      120.5|  North Forest|   3/15/1978|    false|           true|         Sick|\n",
            "|      2|   Pinus sylvestris|    32.1|       60|       95.8|Mountain Range|   7/22/1963|     true|          false|      Healthy|\n",
            "|      3|Acer pseudoplatanus|    18.7|       30|       68.2|     City Park|   11/5/1993|    false|           true|         Sick|\n",
            "|      4|    Fagus sylvatica|    28.9|       55|      112.3|   South Slope|   9/12/1968|    false|          false|      Healthy|\n",
            "|      5|        Picea abies|    41.5|       85|      145.0|   Alpine Zone|   5/30/1938|     true|           true|         Dead|\n",
            "+-------+-------------------+--------+---------+-----------+--------------+------------+---------+---------------+-------------+\n",
            "only showing top 5 rows\n",
            "\n"
          ]
        }
      ]
    },
    {
      "cell_type": "code",
      "source": [
        "# Menampilkan Pohon Yang TIngginya Lebih dari 30M dan Berumur Kurang dari 70 Tahun\n",
        "tall_young_trees = trees_df.filter((trees_df.Height_m > 30) & (trees_df.Age_years < 70))\n",
        "\n",
        "tall_young_trees.show()"
      ],
      "metadata": {
        "id": "CDWXZNcF45z2",
        "colab": {
          "base_uri": "https://localhost:8080/"
        },
        "outputId": "72c77bbc-4a02-4232-8333-433451e34cf6"
      },
      "execution_count": 16,
      "outputs": [
        {
          "output_type": "stream",
          "name": "stdout",
          "text": [
            "+-------+----------------+--------+---------+-----------+--------------+------------+---------+---------------+-------------+\n",
            "|Tree_ID|         Species|Height_m|Age_years|Diameter_cm|      Location|Planted_Date|Evergreen|Disease_Present|Health_Status|\n",
            "+-------+----------------+--------+---------+-----------+--------------+------------+---------+---------------+-------------+\n",
            "|      2|Pinus sylvestris|    32.1|       60|       95.8|Mountain Range|   7/22/1963|     true|          false|      Healthy|\n",
            "|     12| Pinus ponderosa|    31.9|       65|      110.2|  North Forest|   6/14/1958|     true|          false|      Healthy|\n",
            "|     19|   Abies procera|    34.9|       68|      123.8|Mountain Range|   10/5/1955|     true|          false|      Healthy|\n",
            "+-------+----------------+--------+---------+-----------+--------------+------------+---------+---------------+-------------+\n",
            "\n"
          ]
        }
      ]
    },
    {
      "cell_type": "code",
      "source": [
        "# Menampilkan Jumlah Dengan Status Kesehatan\n",
        "health_counts = trees_df.groupBy(\"Health_Status\").count()\n",
        "\n",
        "health_counts.show()"
      ],
      "metadata": {
        "id": "bT04o1w16Bgo",
        "colab": {
          "base_uri": "https://localhost:8080/"
        },
        "outputId": "ae3422a0-47eb-443c-eb49-da0fed55824f"
      },
      "execution_count": 17,
      "outputs": [
        {
          "output_type": "stream",
          "name": "stdout",
          "text": [
            "+-------------+-----+\n",
            "|Health_Status|count|\n",
            "+-------------+-----+\n",
            "|         NULL|    1|\n",
            "|         Dead|    3|\n",
            "|         Sick|    7|\n",
            "|      Healthy|   10|\n",
            "+-------------+-----+\n",
            "\n"
          ]
        }
      ]
    },
    {
      "cell_type": "markdown",
      "source": [
        "Data Cleaning"
      ],
      "metadata": {
        "id": "ozHnUFu765Q4"
      }
    },
    {
      "cell_type": "code",
      "source": [
        "# Cek Missing Values\n",
        "from pyspark.sql.functions import col, sum\n",
        "\n",
        "missing_values = trees_df.select([sum(col(c).isNull().cast(\"int\")).alias(c) for c in\n",
        "trees_df.columns])\n",
        "\n",
        "missing_values.show()"
      ],
      "metadata": {
        "id": "utvMyLLH68ma",
        "colab": {
          "base_uri": "https://localhost:8080/"
        },
        "outputId": "9b77b0eb-2721-4f65-bc8d-f75ce2743c4a"
      },
      "execution_count": 18,
      "outputs": [
        {
          "output_type": "stream",
          "name": "stdout",
          "text": [
            "+-------+-------+--------+---------+-----------+--------+------------+---------+---------------+-------------+\n",
            "|Tree_ID|Species|Height_m|Age_years|Diameter_cm|Location|Planted_Date|Evergreen|Disease_Present|Health_Status|\n",
            "+-------+-------+--------+---------+-----------+--------+------------+---------+---------------+-------------+\n",
            "|      0|      0|       1|        0|          0|       0|           0|        0|              0|            1|\n",
            "+-------+-------+--------+---------+-----------+--------+------------+---------+---------------+-------------+\n",
            "\n"
          ]
        }
      ]
    },
    {
      "cell_type": "code",
      "source": [
        "# Isi Missing Values di Height_m dengan Median\n",
        "from pyspark.sql.functions import median\n",
        "\n",
        "median_height = trees_df.select(median(\"Height_m\")).first()[0]\n",
        "\n",
        "trees_df = trees_df.na.fill(median_height, subset = [\"Height_m\"])\n",
        "\n",
        "trees_df.show()"
      ],
      "metadata": {
        "id": "rdFQpDNX9LzZ",
        "colab": {
          "base_uri": "https://localhost:8080/"
        },
        "outputId": "b69a309f-b368-4603-cc01-f5b243005ae9"
      },
      "execution_count": 19,
      "outputs": [
        {
          "output_type": "stream",
          "name": "stdout",
          "text": [
            "+-------+-------------------+--------+---------+-----------+--------------+------------+---------+---------------+-------------+\n",
            "|Tree_ID|            Species|Height_m|Age_years|Diameter_cm|      Location|Planted_Date|Evergreen|Disease_Present|Health_Status|\n",
            "+-------+-------------------+--------+---------+-----------+--------------+------------+---------+---------------+-------------+\n",
            "|      1|      Quercus robur|    25.3|       45|      120.5|  North Forest|   3/15/1978|    false|           true|         Sick|\n",
            "|      2|   Pinus sylvestris|    32.1|       60|       95.8|Mountain Range|   7/22/1963|     true|          false|      Healthy|\n",
            "|      3|Acer pseudoplatanus|    18.7|       30|       68.2|     City Park|   11/5/1993|    false|           true|         Sick|\n",
            "|      4|    Fagus sylvatica|    28.9|       55|      112.3|   South Slope|   9/12/1968|    false|          false|      Healthy|\n",
            "|      5|        Picea abies|    41.5|       85|      145.0|   Alpine Zone|   5/30/1938|     true|           true|         Dead|\n",
            "|      6|     Betula pendula|    15.2|       20|       45.7|      Lakeside|   8/19/2003|    false|          false|      Healthy|\n",
            "|      7|        Pinus nigra|    29.8|       50|      103.4|  Coastal Area|   4/25/1973|     true|          false|      Healthy|\n",
            "|      8|    Quercus petraea|    27.4|       48|      118.9|    West Woods|  10/11/1975|    false|           true|         Sick|\n",
            "|      9|   Acer platanoides|    19.5|       35|       72.6|  Urban Center|   2/28/1988|    false|          false|      Healthy|\n",
            "|     10|         Abies alba|   26.05|       70|      128.3|Mountain Range|  12/10/1953|     true|           true|         Dead|\n",
            "|     11| Fraxinus excelsior|    22.8|       40|       89.7|     Riverbank|    7/7/1983|    false|           true|         Sick|\n",
            "|     12|    Pinus ponderosa|    31.9|       65|      110.2|  North Forest|   6/14/1958|     true|          false|      Healthy|\n",
            "|     13|   Betula pubescens|    14.3|       18|       42.1|    Swamp Area|   9/23/2005|    false|          false|         NULL|\n",
            "|     14|       Picea glauca|    38.2|       80|      139.6|   Alpine Zone|   4/17/1943|     true|          false|      Healthy|\n",
            "|     15|      Quercus rubra|    24.6|       43|      115.8|   East Valley|    8/9/1980|    false|           true|         Sick|\n",
            "|     15|      Quercus rubra|    24.6|       43|      115.8|   East Valley|    8/9/1980|    false|           true|         Sick|\n",
            "|     16|     Acer saccharum|    20.1|       38|       75.3|     City Park|   1/30/1985|    false|          false|      Healthy|\n",
            "|     17|      Pinus strobus|    27.5|       52|       97.4|  Coastal Area|   3/12/1971|     true|           true|         Dead|\n",
            "|     18|   Fagus orientalis|    26.8|       50|      109.7|   South Slope|  11/25/1973|    false|          false|      Healthy|\n",
            "|     19|      Abies procera|    34.9|       68|      123.8|Mountain Range|   10/5/1955|     true|          false|      Healthy|\n",
            "+-------+-------------------+--------+---------+-----------+--------------+------------+---------+---------------+-------------+\n",
            "only showing top 20 rows\n",
            "\n"
          ]
        }
      ]
    }
  ]
}